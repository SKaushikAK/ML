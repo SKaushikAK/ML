{
 "cells": [
  {
   "cell_type": "code",
   "execution_count": 1,
   "id": "1343f54c",
   "metadata": {},
   "outputs": [],
   "source": [
    "import pandas as pd\n",
    "from sklearn.ensemble import BaggingClassifier\n",
    "from sklearn.tree import DecisionTreeClassifier\n",
    "from sklearn.model_selection import train_test_split\n",
    "from sklearn.preprocessing import LabelEncoder\n",
    "from sklearn.metrics import accuracy_score"
   ]
  },
  {
   "cell_type": "code",
   "execution_count": 5,
   "id": "e7556143",
   "metadata": {},
   "outputs": [
    {
     "name": "stdout",
     "output_type": "stream",
     "text": [
      "Bagging Model Accuracy: 0.67\n"
     ]
    }
   ],
   "source": [
    "\n",
    "\n",
    "df = pd.read_csv(\"mark.csv\")\n",
    "\n",
    "X = df.drop(\"Passed\", axis=1)\n",
    "y = df[\"Passed\"]\n",
    "\n",
    "label_encoder = LabelEncoder()\n",
    "y = label_encoder.fit_transform(y)\n",
    "\n",
    "X_train, X_test, y_train, y_test = train_test_split(X, y, test_size=0.3, random_state=42)\n",
    "\n",
    "base_model = DecisionTreeClassifier()\n",
    "\n",
    "bagging_model = BaggingClassifier(estimator = base_model,\n",
    "                                  n_estimators=10,                                  \n",
    "                                  max_samples=0.8,\n",
    "                                  bootstrap=True,\n",
    "                                  random_state=42\n",
    "                                  )\n",
    "\n",
    "bagging_model.fit(X_train, y_train)\n",
    "y_pred = bagging_model.predict(X_test)\n",
    "accuracy = accuracy_score(y_test, y_pred)\n",
    "print(f\"Bagging Model Accuracy: {accuracy:.2f}\")\n"
   ]
  },
  {
   "cell_type": "code",
   "execution_count": 6,
   "id": "f58b65f6",
   "metadata": {},
   "outputs": [
    {
     "name": "stdout",
     "output_type": "stream",
     "text": [
      "Predicted Result: Yes\n"
     ]
    }
   ],
   "source": [
    "\n",
    "test_record = pd.DataFrame([[65, 75]], columns=[\"Marks\", \"Attendance\"])\n",
    "\n",
    "prediction = bagging_model.predict(test_record)\n",
    "\n",
    "predicted_label = label_encoder.inverse_transform(prediction)\n",
    "print(f\"Predicted Result: {predicted_label[0]}\")"
   ]
  },
  {
   "cell_type": "code",
   "execution_count": null,
   "id": "74860b6f",
   "metadata": {},
   "outputs": [],
   "source": []
  }
 ],
 "metadata": {
  "kernelspec": {
   "display_name": "base",
   "language": "python",
   "name": "python3"
  },
  "language_info": {
   "codemirror_mode": {
    "name": "ipython",
    "version": 3
   },
   "file_extension": ".py",
   "mimetype": "text/x-python",
   "name": "python",
   "nbconvert_exporter": "python",
   "pygments_lexer": "ipython3",
   "version": "3.12.7"
  }
 },
 "nbformat": 4,
 "nbformat_minor": 5
}
