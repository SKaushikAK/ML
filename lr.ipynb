
{
 "cells": [
  {
   "cell_type": "code",
   "execution_count": null,
   "id": "5fe335d3-c7fb-41e8-b293-5516e5addaa6",
   "metadata": {},
   "outputs": [],
   "source": [
    "import pandas as pd\n",
    "import numpy as np\n",
    "import matplotlib.pyplot as plt\n",
    "from sklearn.model_selection import train_test_split\n",
    "from sklearn.preprocessing import StandardScaler"
   ]
  },
  {
   "cell_type": "code",
   "execution_count": null,
   "id": "c03ae6fb-130b-4d61-a01c-f6a86bd401ae",
   "metadata": {},
   "outputs": [],
   "source": [
    "columns = ['Sex', 'Length', 'Diameter', 'Height', 'WholeWeight', 'ShuckedWeight', 'VisceraWeight', 'ShellWeight', 'Rings']"
   ]
  },
  {
   "cell_type": "code",
   "execution_count": null,
   "id": "b231bec8-fe13-4b88-ada4-760a8f2938d3",
   "metadata": {},
   "outputs": [],
   "source": [
    "data = pd.read_csv(\"./datasets/abalone/abalone.data\", header=None, names=columns)"
   ]
  },
  {
   "cell_type": "code",
   "execution_count": null,
   "id": "b8e940fd-6138-453e-bef6-0ab33b82773d",
   "metadata": {},
   "outputs": [],
   "source": [
    "data['Sex'] = data['Sex'].map({'M': 0, 'F': 1, 'I': 2})"
   ]
  },
  {
   "cell_type": "code",
   "execution_count": null,
   "id": "4ebe4cd9-c3d0-459e-90fd-8ed6dec2ba49",
   "metadata": {},
   "outputs": [],
   "source": [
    "data.info()"
   ]
  },
  {
   "cell_type": "code",
   "execution_count": null,
   "id": "9ff71783-d6e0-4a38-a0a3-484197cb386c",
   "metadata": {},
   "outputs": [],
   "source": [
    "X = data.drop(columns=['Rings'])\n",
    "y = data['Rings']"
   ]
  },
  {
   "cell_type": "code",
   "execution_count": null,
   "id": "3a96e81e-2f6f-466f-a6a5-e89482b90101",
   "metadata": {},
   "outputs": [],
   "source": [
    "X_train, X_test, y_train, y_test = train_test_split(X, y, test_size=0.2, random_state=42)"
   ]
  },
  {
   "cell_type": "code",
   "execution_count": null,
   "id": "c5a75b4a-0675-4b13-9b06-c8ae89127dbf",
   "metadata": {},
   "outputs": [],
   "source": [
    "scaler = StandardScaler()\n",
    "X_train = scaler.fit_transform(X_train)\n",
    "X_test = scaler.transform(X_test)"
   ]
  },
  {
   "cell_type": "code",
   "execution_count": null,
   "id": "bcdea284-dc15-4653-8971-e33e8cc4161f",
   "metadata": {},
   "outputs": [],
   "source": [
    "def initialize_weights(dim):\n",
    "    weights = np.zeros(dim)\n",
    "    bias = 0\n",
    "    return weights, bias"
   ]
  },
  {
   "cell_type": "code",
   "execution_count": null,
   "id": "36479f31-04d1-4281-a52b-d2f05a1bc7b7",
   "metadata": {},
   "outputs": [],
   "source": [
    "def predict(X, weights, bias):\n",
    "    return np.dot(X, weights) + bias\n"
   ]
  },
  {
   "cell_type": "code",
   "execution_count": null,
   "id": "aba06496-cc2b-4a94-b270-a41f1060fca4",
   "metadata": {},
   "outputs": [],
   "source": [
    "def compute_loss(y_true, y_pred):\n",
    "    m = len(y_true)\n",
    "    loss = (1/(2*m)) * np.sum((y_pred - y_true) ** 2)\n",
    "    return loss\n"
   ]
  },
  {
   "cell_type": "code",
   "execution_count": null,
   "id": "62c8ef5b-e5d9-4d9f-a4e7-6e178628feed",
   "metadata": {},
   "outputs": [],
   "source": [
    "def compute_gradients(X, y_true, y_pred):\n",
    "    m = len(y_true)\n",
    "    dw = (1/m) * np.dot(X.T, (y_pred - y_true))\n",
    "    db = (1/m) * np.sum(y_pred -y_true)\n",
    "    return dw, db"
   ]
  },
  {
   "cell_type": "code",
   "execution_count": null,
   "id": "8440adde-b70c-4287-ad8a-0c5b0e2a9139",
   "metadata": {},
   "outputs": [],
   "source": [
    "def update_parameters(weights, bias, dw, db, learning_rate):\n",
    "    weights -= learning_rate * dw\n",
    "    bias -= learning_rate * db\n",
    "    return weights, bias"
   ]
  },
  {
   "cell_type": "code",
   "execution_count": null,
   "id": "2a70b26a-e6b0-43cb-99d5-47bad7586547",
   "metadata": {},
   "outputs": [],
   "source": [
    "def train_linear_regression(X, y, learning_rate, epochs):\n",
    "    weights, bias = initialize_weights(X.shape[1])\n",
    "\n",
    "    for i in range(epochs):\n",
    "\n",
    "        y_pred = predict(X, weights, bias)\n",
    "\n",
    "        loss = compute_loss(y, y_pred)\n",
    "\n",
    "        dw, db = compute_gradients(X, y, y_pred)\n",
    "\n",
    "        weights, bias = update_parameters(weights, bias, dw, db, learning_rate)\n",
    "        \n",
    "        print(f\"Epoch {i}: Loss = {loss:.4f}\")\n",
    "    return weights, bias"
   ]
  },
  {
   "cell_type": "code",
   "execution_count": null,
   "id": "372fcdaf-a305-4e55-9a0e-a9dc69bf1fa7",
   "metadata": {},
   "outputs": [],
   "source": [
    "learning_rate = 0.01\n",
    "epochs = 1000\n",
    "weights, bias = train_linear_regression(X_train, y_train, learning_rate, epochs)"
   ]
  },
  {
   "cell_type": "code",
   "execution_count": null,
   "id": "ef4576d1-4b30-48e7-b059-aa84bee69881",
   "metadata": {},
   "outputs": [],
   "source": [
    "def evaluate_model(X, y, weights, bias):\n",
    "    y_pred = predict(X, weights, bias)\n",
    "    mse = compute_loss(y, y_pred)\n",
    "    return mse"
   ]
  },
  {
   "cell_type": "code",
   "execution_count": null,
   "id": "4b001c64-205a-4639-a98a-79fd2fb20088",
   "metadata": {},
   "outputs": [],
   "source": [
    "mse_test = evaluate_model(X_test, y_test, weights, bias)\n",
    "print(f\"Test MSE: {mse_test:.4f}\")"
   ]
  },
  {
   "cell_type": "code",
   "execution_count": null,
   "id": "5673481d-2439-4262-ad33-874cbf0921ee",
   "metadata": {},
   "outputs": [],
   "source": [
    "def show_regression_equation(weights, bias):\n",
    "    eqn = \"y = \"\n",
    "    for i, weight in enumerate(weights):\n",
    "        eqn += f\"{weight:.4f} * {data.columns[i]} + \"\n",
    "    eqn += f\"{bias:.4f}\"\n",
    "    print(f\"Regression Equation: {eqn}\")"
   ]
  },
  {
   "cell_type": "code",
   "execution_count": null,
   "id": "6f169b3d-2e2d-46f3-b3c6-adf648332e2a",
   "metadata": {},
   "outputs": [],
   "source": [
    "show_regression_equation(weights, bias)"
   ]
  },
  {
   "cell_type": "code",
   "execution_count": null,
   "id": "8e123d24-f76b-4c1a-8faf-394d2918c79e",
   "metadata": {},
   "outputs": [],
   "source": [
    "def plot_regression(X_test, y_test, weights, bias):\n",
    "    y_pred = predict(X_test, weights, bias)\n",
    "    \n",
    "    plt.figure(figsize=(10, 6))\n",
    "    plt.scatter(y_test, y_pred, color='blue', alpha=0.5, label='Predicted vs Actual')\n",
    "    plt.plot([y_test.min(), y_test.max()], [y_test.min(), y_test.max()], color='red', linestyle='--', label='Ideal Line')\n",
    "    plt.xlabel('Actual Values')\n",
    "    plt.ylabel('Predicted Values')\n",
    "    plt.title('Regression: Predicted vs Actual Values')\n",
    "    plt.legend()\n",
    "    plt.show()"
   ]
  },
  {
   "cell_type": "code",
   "execution_count": null,
   "id": "7b8013d7-a7e1-4579-a2e6-88ae545bb2e6",
   "metadata": {},
   "outputs": [],
   "source": [
    "plot_regression(X_test, y_test, weights, bias)"
   ]
  }
 ],
 "metadata": {
  "kernelspec": {
   "display_name": "Python 3 (ipykernel)",
   "language": "python",
   "name": "python3"
  },
  "language_info": {
   "codemirror_mode": {
    "name": "ipython",
    "version": 3
   },
   "file_extension": ".py",
   "mimetype": "text/x-python",
   "name": "python",
   "nbconvert_exporter": "python",
   "pygments_lexer": "ipython3",
   "version": "3.9.7"
  }
 },
 "nbformat": 4,
 "nbformat_minor": 5
}
