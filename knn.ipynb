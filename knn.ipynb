{
 "cells": [
  {
   "cell_type": "code",
   "execution_count": 3,
   "id": "680ad838",
   "metadata": {},
   "outputs": [],
   "source": [
    "import pandas as pd\n",
    "from sklearn.model_selection import train_test_split\n",
    "from sklearn.neighbors import KNeighborsClassifier\n",
    "from sklearn.metrics import accuracy_score"
   ]
  },
  {
   "cell_type": "code",
   "execution_count": 4,
   "id": "1178a314",
   "metadata": {},
   "outputs": [
    {
     "name": "stdout",
     "output_type": "stream",
     "text": [
      "Accuracy: 100.00%\n"
     ]
    }
   ],
   "source": [
    "\n",
    "\n",
    "df = pd.read_csv('iris_dataset.csv')\n",
    "\n",
    "X = df.drop(columns='species')\n",
    "y = df['species']\n",
    "\n",
    "X_train, X_test, y_train, y_test = train_test_split(X, y, test_size=0.2, random_state=42)\n",
    "\n",
    "knn = KNeighborsClassifier(n_neighbors=3)\n",
    "knn.fit(X_train, y_train)\n",
    "\n",
    "y_pred = knn.predict(X_test)\n",
    "\n",
    "accuracy = accuracy_score(y_test, y_pred)\n",
    "print(f'Accuracy: {accuracy * 100:.2f}%')\n"
   ]
  },
  {
   "cell_type": "code",
   "execution_count": 3,
   "id": "dafa89b1",
   "metadata": {},
   "outputs": [
    {
     "name": "stdout",
     "output_type": "stream",
     "text": [
      "The predicted species for the record is: setosa\n"
     ]
    },
    {
     "name": "stderr",
     "output_type": "stream",
     "text": [
      "d:\\anaconda\\Lib\\site-packages\\sklearn\\base.py:464: UserWarning: X does not have valid feature names, but KNeighborsClassifier was fitted with feature names\n",
      "  warnings.warn(\n"
     ]
    }
   ],
   "source": [
    "\n",
    "new_record = [[5.1, 3.5, 1.4, 0.2]] \n",
    "\n",
    "predicted_class = knn.predict(new_record)\n",
    "print(f'The predicted species for the record is: {predicted_class[0]}')"
   ]
  },
  {
   "cell_type": "code",
   "execution_count": null,
   "id": "2d5985f1",
   "metadata": {},
   "outputs": [],
   "source": [
    "import pandas as pd\n",
    "from sklearn.cluster import KMeans\n",
    "from sklearn.metrics import accuracy_score\n",
    "from sklearn.model_selection import train_test_split\n",
    "from sklearn.preprocessing import LabelEncoder\n",
    "import numpy as np\n",
    "from scipy.stats import mode\n"
   ]
  },
  {
   "cell_type": "code",
   "execution_count": null,
   "id": "8126b449",
   "metadata": {},
   "outputs": [],
   "source": [
    "df = pd.read_csv('iris_dataset.csv')\n",
    "\n",
    "# Separate features and target\n",
    "X = df.drop(columns='species')\n",
    "y = df['species']\n",
    "\n",
    "# Encode target labels to numerical values\n",
    "le = LabelEncoder()\n",
    "y_encoded = le.fit_transform(y)  # species → 0, 1, 2\n",
    "\n",
    "# Split into train and test\n",
    "X_train, X_test, y_train, y_test = train_test_split(X, y_encoded, test_size=0.2, random_state=42)\n",
    "\n",
    "# Train K-Means with 3 clusters (as there are 3 species)\n"
   ]
  },
  {
   "cell_type": "code",
   "execution_count": null,
   "id": "31dc482e",
   "metadata": {},
   "outputs": [],
   "source": [
    "kmeans = KMeans(n_clusters=3, random_state=42)\n",
    "kmeans.fit(X_train)\n",
    "\n",
    "# Predict cluster labels for test set\n",
    "y_cluster_pred = kmeans.predict(X_test)\n",
    "\n",
    "# Map cluster labels to actual labels (cluster 0 ≠ class 0 by default)\n",
    "# We do this by assigning the most common actual label to each cluster\n",
    "\n",
    "\n",
    "#"
   ]
  },
  {
   "cell_type": "code",
   "execution_count": null,
   "id": "d3b08ac3",
   "metadata": {},
   "outputs": [],
   "source": [
    "# Create a mapping from cluster to actual label\n",
    "labels=np.zeros_like(y_cluster_pred)\n",
    "for i in range(3):\n",
    "    mask=(kmeans.labels_==i)\n",
    "    labels[i]=mode(y_train[mask],keepdims=False).mode\n",
    "\n",
    "# Map predicted cluster labels to actual labels\n",
    "y_pred_mapped = [labels[cluster] for cluster in y_cluster_pred]\n",
    "\n",
    "# Calculate accuracy\n"
   ]
  },
  {
   "cell_type": "code",
   "execution_count": null,
   "id": "e9c7b11e",
   "metadata": {},
   "outputs": [],
   "source": [
    "accuracy = accuracy_score(y_test, y_pred_mapped)\n",
    "print(f'K-Means Accuracy (after label mapping): {accuracy * 100:.2f}%')\n",
    "\n",
    "\n",
    "new_record = [[5.1, 3.5, 1.4, 0.2]] \n",
    "\n",
    "predicted_class = kmeans.predict(new_record)\n",
    "print(f'The predicted species for the record is: {le.inverse_transform(predicted_class)[0]}')\n"
   ]
  },
  {
   "cell_type": "code",
   "execution_count": null,
   "id": "7e1f1d1b",
   "metadata": {},
   "outputs": [],
   "source": [
    "import matplotlib.pyplot as plt\n",
    "from sklearn.decomposition import PCA\n",
    "\n",
    "# Reduce feature dimensions to 2D for visualization\n",
    "pca = PCA(n_components=2)\n",
    "X_test_2D = pca.fit_transform(X_test)\n",
    "\n",
    "# Plotting the clusters with predicted (mapped) labels\n",
    "plt.figure(figsize=(8, 6))\n",
    "scatter = plt.scatter(X_test_2D[:, 0], X_test_2D[:, 1], \n",
    "                      c=y_pred_mapped, cmap='coolwarm')\n",
    "\n",
    "plt.title(\"K-Means Clustering on Iris Dataset (2D PCA)\")\n",
    "plt.xlabel(\"PCA Component 1\")\n",
    "plt.ylabel(\"PCA Component 2\")\n",
    "plt.legend(*scatter.legend_elements(), title=\"Predicted Species\")\n",
    "plt.grid(True)\n",
    "plt.show()\n"
   ]
  }
 ],
 "metadata": {
  "kernelspec": {
   "display_name": "base",
   "language": "python",
   "name": "python3"
  },
  "language_info": {
   "codemirror_mode": {
    "name": "ipython",
    "version": 3
   },
   "file_extension": ".py",
   "mimetype": "text/x-python",
   "name": "python",
   "nbconvert_exporter": "python",
   "pygments_lexer": "ipython3",
   "version": "3.12.7"
  }
 },
 "nbformat": 4,
 "nbformat_minor": 5
}
